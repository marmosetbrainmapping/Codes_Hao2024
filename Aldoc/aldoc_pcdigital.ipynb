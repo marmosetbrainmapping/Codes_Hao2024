{
 "cells": [
  {
   "cell_type": "code",
   "execution_count": 2,
   "id": "5ad62766-e0a3-491f-963c-8c259fe2ac7e",
   "metadata": {},
   "outputs": [],
   "source": [
    "import numpy as np\n",
    "import pandas as pd\n",
    "import skimage"
   ]
  },
  {
   "cell_type": "code",
   "execution_count": 3,
   "id": "947b0b5b-2019-4b70-bb9e-e6f9eaa4d881",
   "metadata": {},
   "outputs": [],
   "source": [
    "import time"
   ]
  },
  {
   "cell_type": "code",
   "execution_count": 4,
   "id": "4d834231-171d-4ac5-bd5b-39368930c59e",
   "metadata": {},
   "outputs": [],
   "source": [
    "import scanpy as sc"
   ]
  },
  {
   "cell_type": "code",
   "execution_count": 5,
   "id": "834f7a62-cfc5-4536-b061-c85c7d6c9ffb",
   "metadata": {},
   "outputs": [],
   "source": [
    "from scipy import  stats"
   ]
  },
  {
   "cell_type": "code",
   "execution_count": 71,
   "id": "32dffffb-4a4b-494b-906e-1500af4b64b5",
   "metadata": {},
   "outputs": [],
   "source": [
    "def add_eh_boundary(\n",
    "    heat_field: np.ndarray,\n",
    "    field_line: np.ndarray,\n",
    "    value: float,\n",
    ") -> None:\n",
    "    for x, y in field_line:\n",
    "        heat_field[y, x] = value\n",
    "\n",
    "\n",
    "def add_gh_boundary(\n",
    "    heat_field: np.ndarray,\n",
    "    field_line: np.ndarray,\n",
    "    value_s: float,\n",
    "    value_e: float,\n",
    ") -> None:\n",
    "    gp_value = np.linspace(value_s, value_e, len(field_line))\n",
    "    idx = 0\n",
    "    for x, y in field_line:\n",
    "        heat_field[y, x] = gp_value[idx]\n",
    "        idx += 1\n",
    "\n",
    "\n",
    "def effective_L2_error(\n",
    "    heat_field_i: np.ndarray,\n",
    "    heat_field_j: np.ndarray,\n",
    "    field_mask: np.ndarray,\n",
    ") -> float:\n",
    "    return np.sqrt(np.sum((heat_field_j - heat_field_i) ** 2 * field_mask) / np.sum(heat_field_j**2 * field_mask))\n",
    "\n",
    "\n",
    "def acclerate_matrix(max_err,max_itr,grid_field_raw,field_border,init_field,field_mask):\n",
    "    err = 1\n",
    "    itr = 0\n",
    "    grid_field = grid_field_raw.copy()\n",
    "    while (err > max_err) and (itr <= max_itr):\n",
    "        grid_field_pre = grid_field.copy()\n",
    "        grid_field[1:-1, 1:-1] = 0.25 * (\n",
    "            grid_field_pre[1:-1, 2:] + grid_field_pre[1:-1, :-2] + grid_field_pre[2:, 1:-1] + grid_field_pre[:-2, 1:-1]\n",
    "        )\n",
    "        grid_field = np.where(field_border != 0, init_field, grid_field)\n",
    "        if itr % 2000 == 0:\n",
    "            err = effective_L2_error(grid_field, grid_field_pre, field_mask)\n",
    "        itr = itr + 1\n",
    "    grid_field[1:-1, 1:-1] = 0.25 * (\n",
    "            grid_field[1:-1, 2:] + grid_field[1:-1, :-2] + grid_field[2:, 1:-1] + grid_field[:-2, 1:-1]\n",
    "    )\n",
    "    return grid_field, itr, err\n",
    "\n",
    "def domain_heat_eqn_solver(\n",
    "    field_border: np.ndarray,\n",
    "    field_mask: np.ndarray,\n",
    "    max_err: float = 1e-5,\n",
    "    max_itr: float = 1e5,\n",
    "    max_border: float = 70\n",
    ") -> np.ndarray:\n",
    "    init_field = field_border.copy()\n",
    "    #layer_mask = field_mask.copy()\n",
    "    field_mask[field_mask != 0] = 1\n",
    "\n",
    "    grid_field = np.where(field_border != 0, init_field, field_mask)\n",
    "    grid_field[grid_field == 1] = max_border\n",
    "\n",
    "\n",
    "    print(time.strftime('%Y-%m-%d %H:%M:%S', time.localtime(time.time())), f\"iteration start\")\n",
    "    grid_field, itr, err = acclerate_matrix(max_err,max_itr,grid_field,field_border,init_field,field_mask)\n",
    "    if itr >= max_itr:\n",
    "        print(\"Max iteration reached, with L2 error at: \" + str(err))\n",
    "    print(time.strftime('%Y-%m-%d %H:%M:%S', time.localtime(time.time())), \"Total iteration: \" + str(itr))\n",
    "    grid_field = grid_field * field_mask\n",
    "\n",
    "    return grid_field\n",
    "\n",
    "def draw_line(line):\n",
    "    x = line['x'].tolist()\n",
    "    y = line['y'].tolist()\n",
    "    point_array = skimage.draw.line(x[0],y[0],x[1],y[1])\n",
    "    x_list = [point_array[0]]\n",
    "    y_list = [point_array[1]]\n",
    "    for i in range(1,len(x)-1):\n",
    "        point_array = skimage.draw.line(x[i],y[i],x[i+1],y[i+1])\n",
    "        x_list = x_list + [point_array[0][1:]]\n",
    "        y_list = y_list + [point_array[1][1:]]\n",
    "    x = np.hstack(x_list)\n",
    "    y = np.hstack(y_list)\n",
    "    #line_array = np.vstack([x,y]).T\n",
    "    return x,y\n",
    "\n",
    "def domain_heat_eqn_solver(\n",
    "    field_border: np.ndarray,\n",
    "    field_mask: np.ndarray,\n",
    "    max_err: float = 1e-5,\n",
    "    max_itr: float = 1e5,\n",
    "    max_border: float = 70\n",
    ") -> np.ndarray:\n",
    "    init_field = field_border.copy()\n",
    "    #layer_mask = field_mask.copy()\n",
    "    field_mask[field_mask != 0] = 1\n",
    "\n",
    "    grid_field = np.where(field_border != 0, init_field, field_mask)\n",
    "    grid_field[grid_field == 1] = max_border\n",
    "\n",
    "\n",
    "    print(time.strftime('%Y-%m-%d %H:%M:%S', time.localtime(time.time())), f\"iteration start\")\n",
    "    grid_field, itr, err = acclerate_matrix(max_err,max_itr,grid_field,field_border,init_field,field_mask)\n",
    "    if itr >= max_itr:\n",
    "        print(\"Max iteration reached, with L2 error at: \" + str(err))\n",
    "    print(time.strftime('%Y-%m-%d %H:%M:%S', time.localtime(time.time())), \"Total iteration: \" + str(itr))\n",
    "    grid_field = grid_field * field_mask\n",
    "\n",
    "    return grid_field\n"
   ]
  },
  {
   "cell_type": "code",
   "execution_count": 6,
   "id": "f75f6252-d9c6-406f-86b1-3688b944f714",
   "metadata": {},
   "outputs": [],
   "source": [
    "import matplotlib.pyplot as plt\n",
    "import seaborn as sns\n",
    "from skimage import io"
   ]
  },
  {
   "cell_type": "code",
   "execution_count": 7,
   "id": "db8ce4be-9285-469d-a755-111c1b0c6d05",
   "metadata": {},
   "outputs": [],
   "source": [
    "from matplotlib.backends.backend_pdf import PdfPages"
   ]
  },
  {
   "cell_type": "code",
   "execution_count": 72,
   "id": "710795de-fb25-4030-b245-71202515f7c5",
   "metadata": {},
   "outputs": [],
   "source": [
    "def dig_pipline(line_path,mask_path):\n",
    "    line_raw = pd.read_csv(line_path,sep='\\t', header=0, compression='infer', comment='#')\n",
    "    line_raw.columns = ['x', 'y', 'line_id']\n",
    "    line_raw['line_sid'] = line_raw['line_id'].str.split('+', expand=True)[1]\n",
    "    line_raw['line_id'] = line_raw['line_id'].str.split('+', expand=True)[0]\n",
    "    line_raw['x'] = round(line_raw['x'], 0).astype(int)\n",
    "    line_raw['y'] = round(line_raw['y'], 0).astype(int)\n",
    "\n",
    "    x_max = line_raw['x'].max()\n",
    "    y_max = line_raw['y'].max()\n",
    "    empty_field = np.zeros((y_max+5,x_max+5))\n",
    "    field_border = empty_field.copy()\n",
    "    line_id_list = pd.unique(line_raw['line_id'])\n",
    "    for i in range(0,len(line_id_list)):\n",
    "        line_l = line_raw[line_raw['line_id'] == line_id_list[i]].copy()\n",
    "        for j in pd.unique(line_l['line_sid']):\n",
    "            line_l_tmp = line_l[line_l['line_sid']==j][['x', 'y']].copy()\n",
    "            line_l_tmp_x,line_l_tmp_y = draw_line(line_l_tmp)\n",
    "            gp_value = np.linspace(i*1000+1, i*1000+1000, len(line_l_tmp_x))\n",
    "            field_border[line_l_tmp_y, line_l_tmp_x] = gp_value\n",
    "    mask = io.imread(mask_path)\n",
    "    field_mask = np.zeros_like(field_border)\n",
    "    field_mask[:y_max+5,:x_max+5] = mask[:y_max+5,:x_max+5]\n",
    "    of_layer = domain_heat_eqn_solver(\n",
    "        field_border,\n",
    "        field_mask,\n",
    "        1e-5,\n",
    "        1e5,\n",
    "        0\n",
    "    )\n",
    "    return of_layer, line_id_list"
   ]
  },
  {
   "cell_type": "code",
   "execution_count": 8,
   "id": "cc441f83-272e-48cc-8c03-cc31ca7cb9df",
   "metadata": {},
   "outputs": [
    {
     "name": "stdout",
     "output_type": "stream",
     "text": [
      "2023-09-29 00:25:21 iteration start\n",
      "2023-09-29 00:25:26 Total iteration: 2001\n"
     ]
    }
   ],
   "source": [
    "mouse_path1 = \"/jdfssz3/ST_STOMICS/P22Z10200N0661/huangzhi/cerebellum/purkinje_d/ALDOC/mouse_T357.txt\"\n",
    "mouse_path2 = \"/jdfssz3/ST_STOMICS/P22Z10200N0661/huangzhi/cerebellum/purkinje_d/ALDOC/mouse_T357.tif\"\n",
    "mouse_digmatrix, mouse_line_id_list = dig_pipline(mouse_path1,mouse_path2)"
   ]
  },
  {
   "cell_type": "code",
   "execution_count": 9,
   "id": "a4bb9c44-44e8-463d-bfc4-8228bab2b0e7",
   "metadata": {},
   "outputs": [
    {
     "name": "stdout",
     "output_type": "stream",
     "text": [
      "2023-05-04 21:44:27 iteration start\n",
      "2023-05-04 21:44:31 Total iteration: 2001\n",
      "2023-05-04 21:44:31 iteration start\n",
      "2023-05-04 21:44:34 Total iteration: 2001\n",
      "2023-05-04 21:44:34 iteration start\n",
      "2023-05-04 21:44:45 Total iteration: 2001\n"
     ]
    }
   ],
   "source": [
    "#mouse_path1 = \"/jdfssz3/ST_STOMICS/P22Z10200N0661/huangzhi/cerebellum/purkinje_d/ALDOC/mouse_T354.txt\"\n",
    "#mouse_path2 = \"/jdfssz3/ST_STOMICS/P22Z10200N0661/huangzhi/cerebellum/purkinje_d/ALDOC/mouse_T354.tif\"\n",
    "marmoset_path1 = \"/jdfssz3/ST_STOMICS/P22Z10200N0661/huangzhi/cerebellum/purkinje_d/ALDOC/marmoset_T704.txt\"\n",
    "marmoset_path2 = \"/jdfssz3/ST_STOMICS/P22Z10200N0661/huangzhi/cerebellum/purkinje_d/ALDOC/marmoset_T704.tif\"\n",
    "macaque_path1 = \"/jdfssz3/ST_STOMICS/P22Z10200N0661/huangzhi/cerebellum/purkinje_d/ALDOC/macaque_T68.txt\"\n",
    "macaque_path2 = \"/jdfssz3/ST_STOMICS/P22Z10200N0661/huangzhi/cerebellum/purkinje_d/ALDOC/macaque_T68.tif\"\n",
    "mouse_digmatrix, mouse_line_id_list = dig_pipline(mouse_path1,mouse_path2)\n",
    "marmoset_digmatrix, marmoset_line_id_list = dig_pipline(marmoset_path1,marmoset_path2)\n",
    "macaque_digmatrix, macaque_line_id_list = dig_pipline(macaque_path1,macaque_path2)"
   ]
  },
  {
   "cell_type": "code",
   "execution_count": 9,
   "id": "9661d161-ef16-4e77-af80-c9e61e689c43",
   "metadata": {},
   "outputs": [],
   "source": [
    "ly,lx = np.where(mouse_digmatrix!=0)\n",
    "moudf = pd.DataFrame({'coor_x':lx,'coor_y':ly,'columns':mouse_digmatrix[ly,lx]})\n",
    "moudf.to_csv('/jdfssz3/ST_STOMICS/P22Z10200N0661/huangzhi/cerebellum/purkinje_d/ALDOC/mouse.digital_result.2.csv',header=True,sep = '\\t')"
   ]
  },
  {
   "cell_type": "code",
   "execution_count": 11,
   "id": "08ecaaff-9bc9-494b-91c9-a6988e4da524",
   "metadata": {},
   "outputs": [],
   "source": [
    "#ly,lx = np.where(mouse_digmatrix!=0)\n",
    "#moudf = pd.DataFrame({'coor_x':lx,'coor_y':ly,'columns':mouse_digmatrix[ly,lx]})\n",
    "#moudf.to_csv('/jdfssz3/ST_STOMICS/P22Z10200N0661/huangzhi/cerebellum/purkinje_d/ALDOC/mouse.digital_result.csv',header=True,sep = '\\t')\n",
    "ly,lx = np.where(macaque_digmatrix!=0)\n",
    "macdf = pd.DataFrame({'coor_x':lx,'coor_y':ly,'columns':macaque_digmatrix[ly,lx]})\n",
    "macdf.to_csv('/jdfssz3/ST_STOMICS/P22Z10200N0661/huangzhi/cerebellum/purkinje_d/ALDOC/macaque.digital_result.csv',header=True,sep = '\\t')\n",
    "ly,lx = np.where(marmoset_digmatrix!=0)\n",
    "mardf = pd.DataFrame({'coor_x':lx,'coor_y':ly,'columns':marmoset_digmatrix[ly,lx]})\n",
    "mardf.to_csv('/jdfssz3/ST_STOMICS/P22Z10200N0661/huangzhi/cerebellum/purkinje_d/ALDOC/marmoset.digital_result.csv',header=True,sep = '\\t')"
   ]
  },
  {
   "cell_type": "code",
   "execution_count": 274,
   "id": "554f45af-79e5-4569-ac32-9e2efc37a72b",
   "metadata": {},
   "outputs": [],
   "source": [
    "def pc_gene_line(path,adatad,use_gene,pc_gene):\n",
    "    df = pd.read_csv(path,sep=\"\\t\",header=0)\n",
    "    obs = adatad.obs.copy()\n",
    "    gene_index = adatad.var.features.isin(pd.unique(use_gene+pc_gene))\n",
    "    gene_list = adatad.var[gene_index].features.tolist()\n",
    "    gene = adatad.raw.X[:, gene_index]\n",
    "    obs[gene_list] = gene.toarray()\n",
    "    obs[['coor_x','coor_y']] = obs[['coor_x','coor_y']].astype(int)\n",
    "    df = pd.merge(df,obs,on=[\"coor_x\",\"coor_y\"])\n",
    "    df = df.dropna() \n",
    "\n",
    "    data_list = []\n",
    "    df[\"columns\"] = df[\"columns\"].astype(int)\n",
    "    df_groupby = df.groupby(by=[\"columns\"]).mean().reset_index()\n",
    "\n",
    "    for i in pd.unique(use_gene+pc_gene):\n",
    "        idf = df_groupby[[\"columns\",i]].copy()\n",
    "        idf[i] = idf[i]\n",
    "        for j in range(0,int(df['columns'].max()/1000+1)):\n",
    "            line_max = j*1000+1000\n",
    "            line_min = j*1000+1\n",
    "            jdf = idf[(idf['columns']>=line_min)&(idf['columns']<line_max)].copy()\n",
    "            jdf['columns'] = jdf['columns'] - line_min\n",
    "            kde = stats.gaussian_kde(jdf['columns'].tolist(), bw_method=0.1, weights=jdf[i].tolist())\n",
    "            x_range = np.linspace(0,1000,1000)\n",
    "            density = kde(x_range)\n",
    "            plot = pd.DataFrame({'x':x_range,'y':density,'gene':i,'line':f'line{j+1}'})\n",
    "            data_list = data_list + [plot]\n",
    "    all = pd.concat(data_list, axis=0)\n",
    "\n",
    "    pc_tmp = all[all[\"gene\"].isin(pc_gene)].copy()\n",
    "    pc_tmp = pc_tmp[[\"line\",\"x\",\"y\"]]\n",
    "    pc_tmp = pc_tmp.groupby(by=[\"line\",\"x\"]).mean().reset_index()\n",
    "    aldoc_tmp = all[all[\"gene\"].isin(use_gene)].copy()\n",
    "    aldoc_tmp = aldoc_tmp[[\"line\",\"x\",\"y\"]]\n",
    "    aldoc_tmp = aldoc_tmp.groupby(by=[\"line\",\"x\"]).mean().reset_index()\n",
    "    \n",
    "    aldoc_tmp['pc'] = pc_tmp['y'].tolist()\n",
    "    aldoc_tmp['y'] = aldoc_tmp['y'] - aldoc_tmp['pc']\n",
    "    return aldoc_tmp,all\n",
    "    #macall = aldoc_tmp"
   ]
  },
  {
   "cell_type": "markdown",
   "id": "0f7dc4d3-c13f-464a-afef-7c6d9a28ad03",
   "metadata": {},
   "source": [
    "<font size=10>--------Macaque---------</font>"
   ]
  },
  {
   "cell_type": "code",
   "execution_count": null,
   "id": "73b30e08-20f7-43d4-8dbe-1766ffd620c0",
   "metadata": {},
   "outputs": [],
   "source": [
    "adata_mac = sc.read_h5ad(\"/jdfssz3/ST_STOMICS/P22Z10200N0661/huangzhi/cerebellum/purkinje_d/ALDOC/T68.h5ad\")"
   ]
  },
  {
   "cell_type": "code",
   "execution_count": 141,
   "id": "bef032df-fa00-41d6-b7e9-d568d3484751",
   "metadata": {},
   "outputs": [
    {
     "name": "stderr",
     "output_type": "stream",
     "text": [
      "/jdfssz3/ST_STOMICS/P22Z10200N0661/huangzhi/tmp/ipykernel_40228/943210949.py:13: FutureWarning: The default value of numeric_only in DataFrameGroupBy.mean is deprecated. In a future version, numeric_only will default to False. Either specify numeric_only or select only columns which should be valid for the function.\n",
      "  df_groupby = df.groupby(by=[\"columns\"]).mean().reset_index()\n"
     ]
    }
   ],
   "source": [
    "macpath = '/jdfssz3/ST_STOMICS/P22Z10200N0661/huangzhi/cerebellum/purkinje_d/ALDOC/macaque.digital_result.csv'\n",
    "macall = pc_gene_line(macpath,adata_mac,'ALDOC',[\"PCP4\",\"PCP2\",\"CALB1\"])"
   ]
  },
  {
   "cell_type": "code",
   "execution_count": 143,
   "id": "ca671d57-2628-4c8f-9c35-f73a241b0c9e",
   "metadata": {},
   "outputs": [
    {
     "data": {
      "text/plain": [
       "(-0.0008, 0.0008)"
      ]
     },
     "execution_count": 143,
     "metadata": {},
     "output_type": "execute_result"
    },
    {
     "data": {
      "image/png": "[encoded data removed]",
      "text/plain": [
       "<Figure size 300x100 with 1 Axes>"
      ]
     },
     "metadata": {},
     "output_type": "display_data"
    }
   ],
   "source": [
    "plt.figure(figsize=[3,1])\n",
    "sns.lineplot(data=macall,x=\"x\",y=\"y\",hue=\"line\")\n",
    "plt.ylim((-0.0008, 0.0008))"
   ]
  },
  {
   "cell_type": "code",
   "execution_count": 144,
   "id": "88fe5107-ffb2-4039-8f04-6563f842c2f1",
   "metadata": {},
   "outputs": [],
   "source": [
    "macall.to_csv('/jdfssz3/ST_STOMICS/P22Z10200N0661/huangzhi/cerebellum/purkinje_d/ALDOC/paper_plot1018/macaque.density.txt',sep=\"\\t\",header=True,index=False)"
   ]
  },
  {
   "cell_type": "markdown",
   "id": "5b74b334-e295-4ef6-a2be-d3e8b0453817",
   "metadata": {},
   "source": [
    "<font size=10>--------Marmoset---------</font>"
   ]
  },
  {
   "cell_type": "code",
   "execution_count": 267,
   "id": "94a0368c-9ce1-41db-bd28-257f97941664",
   "metadata": {},
   "outputs": [],
   "source": [
    "adata_mar = sc.read_h5ad(\"/jdfssz3/ST_STOMICS/P22Z10200N0661/huangzhi/cerebellum/purkinje_d/GRID2/line/STh5ad/T704.h5ad\")"
   ]
  },
  {
   "cell_type": "code",
   "execution_count": 173,
   "id": "c10de46f-ebe8-40cd-9cd8-e84252575306",
   "metadata": {},
   "outputs": [
    {
     "name": "stderr",
     "output_type": "stream",
     "text": [
      "/jdfssz3/ST_STOMICS/P22Z10200N0661/huangzhi/tmp/ipykernel_40228/2313090240.py:13: FutureWarning: The default value of numeric_only in DataFrameGroupBy.mean is deprecated. In a future version, numeric_only will default to False. Either specify numeric_only or select only columns which should be valid for the function.\n",
      "  df_groupby = df.groupby(by=[\"columns\"]).mean().reset_index()\n"
     ]
    }
   ],
   "source": [
    "marpath = '/jdfssz3/ST_STOMICS/P22Z10200N0661/huangzhi/cerebellum/purkinje_d/ALDOC/marmoset.digital_result.csv'\n",
    "marall = pc_gene_line(marpath,adata_mar,['ALDOC'],[\"PCP4\",\"PCP2\",\"CALB1\"])"
   ]
  },
  {
   "cell_type": "code",
   "execution_count": 174,
   "id": "096e929e-3248-4f1b-af8c-1fcd1e1cc3b4",
   "metadata": {},
   "outputs": [
    {
     "data": {
      "text/plain": [
       "(-0.0008, 0.0008)"
      ]
     },
     "execution_count": 174,
     "metadata": {},
     "output_type": "execute_result"
    },
    {
     "data": {
      "image/png": "[encoded data removed]",
      "text/plain": [
       "<Figure size 300x100 with 1 Axes>"
      ]
     },
     "metadata": {},
     "output_type": "display_data"
    }
   ],
   "source": [
    "plt.figure(figsize=[3,1])\n",
    "sns.lineplot(data=marall[marall['line']!='line7'],x=\"x\",y=\"y\",hue=\"line\")\n",
    "plt.ylim((-0.0008, 0.0008))"
   ]
  },
  {
   "cell_type": "code",
   "execution_count": 146,
   "id": "e3d4c141-d448-48b3-b5e3-37d762d8318b",
   "metadata": {},
   "outputs": [],
   "source": [
    "marall[marall['line']!='line7'].to_csv('/jdfssz3/ST_STOMICS/P22Z10200N0661/huangzhi/cerebellum/purkinje_d/ALDOC/paper_plot1018/marmoset.density.txt',sep=\"\\t\",header=True,index=False)"
   ]
  },
  {
   "cell_type": "markdown",
   "id": "7959ce63-4611-497b-bbd3-289b6305f930",
   "metadata": {},
   "source": [
    "<font size=10>--------Mouse---------</font>"
   ]
  },
  {
   "cell_type": "code",
   "execution_count": 124,
   "id": "ac1d0772-e427-4013-87b8-7eb23949c8b1",
   "metadata": {},
   "outputs": [],
   "source": [
    "adata_mou = sc.read_h5ad(\"/jdfssz3/ST_STOMICS/P22Z10200N0661/huangzhi/cerebellum/purkinje_d/ALDOC/T357.h5ad\")"
   ]
  },
  {
   "cell_type": "code",
   "execution_count": 125,
   "id": "2a8281a6-2877-432a-9247-18dae177d02b",
   "metadata": {},
   "outputs": [
    {
     "name": "stderr",
     "output_type": "stream",
     "text": [
      "/jdfssz3/ST_STOMICS/P22Z10200N0661/huangzhi/tmp/ipykernel_40228/2437787097.py:13: FutureWarning: The default value of numeric_only in DataFrameGroupBy.mean is deprecated. In a future version, numeric_only will default to False. Either specify numeric_only or select only columns which should be valid for the function.\n",
      "  df_groupby = df.groupby(by=[\"columns\"]).mean().reset_index()\n"
     ]
    }
   ],
   "source": [
    "moupath = '/jdfssz3/ST_STOMICS/P22Z10200N0661/huangzhi/cerebellum/purkinje_d/ALDOC/mouse.digital_result.2.csv'\n",
    "mouall = pc_gene_line(moupath,adata_mou,'Aldoc',[\"Pcp4\",\"Pcp2\",\"Calb1\"])"
   ]
  },
  {
   "cell_type": "code",
   "execution_count": 126,
   "id": "dbfc1bf3-ac88-419d-8769-0a80d08cf549",
   "metadata": {},
   "outputs": [
    {
     "data": {
      "text/plain": [
       "(-0.0008, 0.0008)"
      ]
     },
     "execution_count": 126,
     "metadata": {},
     "output_type": "execute_result"
    },
    {
     "data": {
      "image/png": "[encoded data removed]",
      "text/plain": [
       "<Figure size 300x100 with 1 Axes>"
      ]
     },
     "metadata": {},
     "output_type": "display_data"
    }
   ],
   "source": [
    "plt.figure(figsize=[3,1])\n",
    "sns.lineplot(data=mouall,x=\"x\",y=\"y\",hue=\"line\")\n",
    "plt.ylim((-0.0008, 0.0008))"
   ]
  },
  {
   "cell_type": "code",
   "execution_count": 147,
   "id": "0d4ece5a-1b3e-409d-b77b-c639624c401f",
   "metadata": {},
   "outputs": [],
   "source": [
    "mouall.to_csv('/jdfssz3/ST_STOMICS/P22Z10200N0661/huangzhi/cerebellum/purkinje_d/ALDOC/paper_plot1018/mouse.density.txt',sep=\"\\t\",header=True,index=False)"
   ]
  },
  {
   "cell_type": "markdown",
   "id": "91baad5f-82fc-41a5-a535-03babcc5175a",
   "metadata": {},
   "source": [
    "<font size=10>--------End---------</font>"
   ]
  }
 ],
 "metadata": {
  "kernelspec": {
   "display_name": "Python 3 (ipykernel)",
   "language": "python",
   "name": "python3"
  },
  "language_info": {
   "codemirror_mode": {
    "name": "ipython",
    "version": 3
   },
   "file_extension": ".py",
   "mimetype": "text/x-python",
   "name": "python",
   "nbconvert_exporter": "python",
   "pygments_lexer": "ipython3",
   "version": "3.9.5"
  }
 },
 "nbformat": 4,
 "nbformat_minor": 5
}
