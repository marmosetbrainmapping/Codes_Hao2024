{
 "cells": [
  {
   "cell_type": "code",
   "execution_count": null,
   "metadata": {},
   "outputs": [],
   "source": [
    "\n",
    "import os\n",
    "import time\n",
    "import numpy as np\n",
    "import nibabel as nib\n",
    "import pandas as pd\n",
    "from tqdm import tqdm\n",
    "from gen_slice import gen_slice, rescale,time_elapsed, gen_slice_masked,scale_xy\n",
    "from gen_slice import nii_3Dto2D, flip_rotate\n",
    "from gen_slice import gen_txt,gen_slice_ROI,make_ROI,gen_slice_ROI_from_parquet,make_ROI_repeat\n"
   ]
  },
  {
   "attachments": {},
   "cell_type": "markdown",
   "metadata": {},
   "source": [
    "Reconstruct nifti images from raw txt, bin = 50 (marmoset) or 100 (macaque) or 10 (mouse)"
   ]
  },
  {
   "cell_type": "code",
   "execution_count": 5,
   "metadata": {},
   "outputs": [],
   "source": [
    "path_raw = r'txt_data_path/'\n",
    "files_txt = [f for f in os.listdir(path_raw) if 'txt' in f]\n",
    "files_txt.sort()\n",
    "files_id = [f.split('.')[0] for f in files_txt]"
   ]
  },
  {
   "cell_type": "code",
   "execution_count": 6,
   "metadata": {},
   "outputs": [],
   "source": [
    "path_sagittal_slices = r'txt_data_to_nifti_path/'\n",
    "if not os.path.exists(path_sagittal_slices):\n",
    "    os.makedirs(path_sagittal_slices)"
   ]
  },
  {
   "cell_type": "code",
   "execution_count": null,
   "metadata": {},
   "outputs": [],
   "source": [
    "for f in files_txt:\n",
    "    path_input = os.path.join(path_raw, f)\n",
    "    path_output = os.path.join(path_sagittal_slices, '.'.join((f, 'nii.gz')))\n",
    "    gen_slice(path_input, path_output, 50)"
   ]
  },
  {
   "attachments": {},
   "cell_type": "markdown",
   "metadata": {},
   "source": [
    "rescale the size of nifti images to the same size (1000x1000 )"
   ]
  },
  {
   "cell_type": "code",
   "execution_count": null,
   "metadata": {},
   "outputs": [],
   "source": [
    "path_origin = 'txt_data_to_nifti_path/'\n",
    "path_large_slice = [os.path.join(path_origin, 'large_' + f) for f in os.listdir(path_origin)]\n",
    "path_origin_slice = [os.path.join(path_origin, f) for f in os.listdir(path_origin)]\n",
    "for path_in, path_out in tqdm(zip(path_origin_slice, path_large_slice)):\n",
    "    rescale(path_in, path_out,1000)"
   ]
  },
  {
   "attachments": {},
   "cell_type": "markdown",
   "metadata": {},
   "source": [
    "use the '2D_register' in the Linux console to register each slice to same space"
   ]
  },
  {
   "attachments": {},
   "cell_type": "markdown",
   "metadata": {},
   "source": [
    " generate 2d nifti slice from 3d nifti volume totalRNA or mask or ROI"
   ]
  },
  {
   "cell_type": "code",
   "execution_count": null,
   "metadata": {},
   "outputs": [],
   "source": [
    "path_nii_volume = 'macaque_ceb.nii.gz'\n",
    "path_nii_slice = 'macaque_ceb_slice.nii.gz'\n",
    "\n",
    "nii_3Dto2D(path_nii_volume, path_nii_slice,slice_dim=1, prefix='coronal')\n"
   ]
  },
  {
   "attachments": {},
   "cell_type": "markdown",
   "metadata": {},
   "source": [
    "manually rotate slice to the nearest angle between raw data slice and the current slice from 3d "
   ]
  },
  {
   "cell_type": "code",
   "execution_count": null,
   "metadata": {},
   "outputs": [],
   "source": [
    "path_sagittal_reg = './coronal_slice_reg/'\n",
    "path_sagittal_rotate = './coronal_slice_rotatereturn'\n",
    "sagittal_slices = [f for f in os.listdir(path_sagittal_reg) if 'coronal' in f]\n",
    "mask_slices = [f for f in os.listdir(path_sagittal_reg) if 'ROI' in f]\n",
    "sagittal_slices.sort(), mask_slices.sort()"
   ]
  },
  {
   "cell_type": "code",
   "execution_count": 9,
   "metadata": {},
   "outputs": [],
   "source": [
    "rotate_list = [\n",
    "    0, 2, 1, 0, 2, 0, 1, 0, 0, 3,\n",
    "    0, 3, 3, 0, 3, 0, 2, 0, 0, 0,\n",
    "    0, 0, 1, 0, 0, 0, 0, 0, 2, 2,\n",
    "    3, 2, 0, 2, 0, 3, 0, 3, 0, 2,\n",
    "    0, 3, 2, 3, 0, 0, 2, 2, 3, 0,\n",
    "    0, 0, 3, 0, 0, 2, 2, 0, 3, 1,\n",
    "    3, 3, 1, 2, 3, 3, 1, 2, 3, 2,\n",
    "    0, 2, 1, 3, 2, 3, 0, 2, 3, 3,\n",
    "    1, 1, 3, 3, 3, 3, 1, 0, 0, 1,\n",
    "    0, 3, 2, 0, 2, 0, 3, 2, 1, 3,\n",
    "    2, 1, 2, 3, 2, 0, 3, 0, 2, 2,\n",
    "    3, 1, 1, 0, 3, 1]"
   ]
  },
  {
   "cell_type": "code",
   "execution_count": 10,
   "metadata": {},
   "outputs": [],
   "source": [
    "for k, sagittal, mask in zip(rotate_list, sagittal_slices, mask_slices):\n",
    "    #flip_rotate(os.path.join(path_sagittal_reg, sagittal), os.path.join(path_sagittal_rotate, 'rotate_' + sagittal), k)\n",
    "    flip_rotate(os.path.join(path_sagittal_reg, mask), os.path.join(path_sagittal_rotate, 'rotate_' + mask), k)"
   ]
  },
  {
   "attachments": {},
   "cell_type": "markdown",
   "metadata": {},
   "source": [
    "Registraion"
   ]
  },
  {
   "attachments": {},
   "cell_type": "markdown",
   "metadata": {},
   "source": [
    "Registraion the rotatereturn totalNRA and mask to the nii-slice(large-1600) from the txt to genera the nii mask "
   ]
  }
 ],
 "metadata": {
  "kernelspec": {
   "display_name": "MRI2",
   "language": "python",
   "name": "python3"
  },
  "language_info": {
   "codemirror_mode": {
    "name": "ipython",
    "version": 3
   },
   "file_extension": ".py",
   "mimetype": "text/x-python",
   "name": "python",
   "nbconvert_exporter": "python",
   "pygments_lexer": "ipython3",
   "version": "3.9.18"
  },
  "orig_nbformat": 4,
  "vscode": {
   "interpreter": {
    "hash": "efc19703a644236de5026f46e459dc2584dc08002a043cf22c19acedf7bb044d"
   }
  }
 },
 "nbformat": 4,
 "nbformat_minor": 2
}
